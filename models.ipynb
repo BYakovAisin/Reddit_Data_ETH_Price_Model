{
 "cells": [
  {
   "cell_type": "code",
   "execution_count": 1,
   "id": "e3b81f97",
   "metadata": {},
   "outputs": [],
   "source": [
    "from pyspark import SparkContext\n",
    "from pyspark.sql.session import SparkSession\n",
    "from pyspark.streaming import StreamingContext\n",
    "from pyspark.sql.types import *\n",
    "from pyspark.ml import Pipeline\n",
    "from pyspark.ml.feature import *\n",
    "from pyspark.ml.evaluation import RegressionEvaluator\n",
    "from pyspark.ml.regression import *\n",
    "from pyspark.sql import Row\n",
    "from pyspark.sql.functions import *\n",
    "import numpy as np"
   ]
  },
  {
   "cell_type": "code",
   "execution_count": 2,
   "id": "a9947318",
   "metadata": {},
   "outputs": [],
   "source": [
    "path = 'C://Users/beile.yaaqob.aisin/Downloads/The_Reddit_Ethereum_Dataset/'"
   ]
  },
  {
   "cell_type": "code",
   "execution_count": 3,
   "id": "4ace9b76",
   "metadata": {},
   "outputs": [],
   "source": [
    "# initializing spark session\n",
    "sc = SparkContext(appName=\"PySparkShell\")\n",
    "spark = SparkSession(sc)"
   ]
  },
  {
   "cell_type": "code",
   "execution_count": 5,
   "id": "f4cd7773",
   "metadata": {},
   "outputs": [],
   "source": [
    "my_schema = StructType().add(\"date\", \"string\") \\\n",
    "             .add(\"body\", \"string\") \\\n",
    "             .add(\"btc_price\", \"float\") \\\n",
    "             .add(\"eth_price\", \"float\")"
   ]
  },
  {
   "cell_type": "code",
   "execution_count": 20,
   "id": "8ee493b5",
   "metadata": {},
   "outputs": [],
   "source": [
    "# read the dataset  \n",
    "my_data = spark.read.format(\"csv\").option(\"header\",\"true\").option(\"multiline\",\"true\").option(\"quote\", \"\\\"\").option(\"escape\", \"\\\"\").schema(my_schema).load(path+\"data.csv\")\n",
    "my_data = my_data.dropna()\n",
    "\n",
    "train = my_data[my_data['date'] <= '2019-10-07'] # arbitrary end of the last market cycle\n",
    "\n",
    "test = my_data[my_data['date'] > '2019-10-07']\n",
    "test = test[test['date'] <= '2021-07-12'] # the most recent 'bottom' of eth\n",
    "\n",
    "wild = my_data[my_data['date'] > '2021-07-12']"
   ]
  },
  {
   "cell_type": "code",
   "execution_count": 7,
   "id": "63938c1b",
   "metadata": {},
   "outputs": [],
   "source": [
    "# define stage 1: tokenize the text    \n",
    "stage_1 = RegexTokenizer(inputCol= 'body' , outputCol= 'tokens', pattern= '\\\\W')\n",
    "# define stage 2: remove the stop words\n",
    "stage_2 = StopWordsRemover(inputCol= 'tokens', outputCol= 'filtered_words')\n",
    "# define stage 3: create a word vector of the size 100\n",
    "stage_3 = Word2Vec(inputCol= 'filtered_words', outputCol= 'word_vector', vectorSize= 100)\n",
    "# define stage 4: assembling the word vector and the vector of btc price \n",
    "stage_4 = VectorAssembler(inputCols=['word_vector','btc_price'], outputCol='vector')\n",
    "\n",
    "\n",
    "# setup the pipeline\n",
    "pipeline = Pipeline(stages= [stage_1, stage_2, stage_3, stage_4])# setup the pipeline"
   ]
  },
  {
   "cell_type": "code",
   "execution_count": 8,
   "id": "d7414bac",
   "metadata": {},
   "outputs": [],
   "source": [
    "pipeline_model = pipeline.fit(my_data) # training the pipeline"
   ]
  },
  {
   "cell_type": "code",
   "execution_count": 21,
   "id": "1be58bd1",
   "metadata": {},
   "outputs": [],
   "source": [
    "X_train = pipeline_model.transform(train)\n",
    "\n",
    "X_test = pipeline_model.transform(test)\n",
    "\n",
    "X_wild = pipeline_model.transform(wild) # to generate price predictions and record as results"
   ]
  },
  {
   "cell_type": "code",
   "execution_count": 10,
   "id": "dc20fa69",
   "metadata": {},
   "outputs": [],
   "source": [
    "dtr = DecisionTreeRegressor(featuresCol = 'vector', labelCol='eth_price') #model #1\n",
    "gbt = GBTRegressor(featuresCol = 'vector', labelCol='eth_price') # model #2"
   ]
  },
  {
   "cell_type": "code",
   "execution_count": 11,
   "id": "4318ec07",
   "metadata": {},
   "outputs": [],
   "source": [
    "dtr_fit = dtr.fit(X_train) #decision tree regressor\n",
    "gbt_fit = gbt.fit(X_train) #Gradient-Boosted Trees regressor"
   ]
  },
  {
   "cell_type": "code",
   "execution_count": 70,
   "id": "f4200d72",
   "metadata": {},
   "outputs": [],
   "source": [
    "yhat_dtr = dtr_fit.transform(X_test)\n",
    "yhat_dtr = yhat_dtr[['eth_price','prediction']] # predictions by the decision tree model\n",
    "\n",
    "yhat_gbt = gbt_fit.transform(X_test)\n",
    "yhat_gbt = yhat_gbt[['eth_price','prediction']] # predictions by the gbt model"
   ]
  },
  {
   "cell_type": "code",
   "execution_count": 73,
   "id": "df344fd9",
   "metadata": {},
   "outputs": [],
   "source": [
    "eval_ = RegressionEvaluator(labelCol= 'eth_price', predictionCol= 'prediction') # for evaluation"
   ]
  },
  {
   "cell_type": "code",
   "execution_count": 85,
   "id": "8a13507d",
   "metadata": {},
   "outputs": [
    {
     "name": "stdout",
     "output_type": "stream",
     "text": [
      "rmse_dtr is 918.71\n",
      "mae_dtr is 546.65\n",
      "r2_dtr is -0.01\n"
     ]
    }
   ],
   "source": [
    "# evaluating the decision tree model\n",
    "\n",
    "rmse = eval_.evaluate(yhat_dtr, {eval_.metricName: \"rmse\"})\n",
    "\n",
    "print('rmse_dtr is %.2f' %rmse)\n",
    "\n",
    "mae = eval_.evaluate(yhat_dtr, {eval_.metricName: \"mae\"})\n",
    "print('mae_dtr is %.2f' %mae)\n",
    "\n",
    "r2 = eval_.evaluate(yhat_dtr, {eval_.metricName: \"r2\"})\n",
    "print('r2_dtr is %.2f' %r2)"
   ]
  },
  {
   "cell_type": "code",
   "execution_count": 86,
   "id": "5c541ee0",
   "metadata": {},
   "outputs": [
    {
     "name": "stdout",
     "output_type": "stream",
     "text": [
      "rmse_gbt is 924.47\n",
      "mae_gbt is 544.41\n",
      "r2_gbt is -0.03\n"
     ]
    }
   ],
   "source": [
    "# evaluating the gbt model\n",
    "rmse_gbt = eval_.evaluate(yhat_gbt, {eval_.metricName: \"rmse\"})\n",
    "\n",
    "print('rmse_gbt is %.2f' %rmse_gbt)\n",
    "\n",
    "mae_gbt = eval_.evaluate(yhat_gbt, {eval_.metricName: \"mae\"})\n",
    "print('mae_gbt is %.2f' %mae_gbt)\n",
    "\n",
    "r2_gbt = eval_.evaluate(yhat_gbt, {eval_.metricName: \"r2\"})\n",
    "print('r2_gbt is %.2f' %r2_gbt)"
   ]
  },
  {
   "cell_type": "code",
   "execution_count": 88,
   "id": "e30e267d",
   "metadata": {},
   "outputs": [],
   "source": [
    "# writing the evalutions in txt files\n",
    "\n",
    "f1 = open(path+'dtr_eval.txt', 'w')\n",
    "\n",
    "f1.write('rmse_dtr is %.2f' %rmse)\n",
    "f1.write('\\n')\n",
    "f1.write('mae_dtr is %.2f' %mae)\n",
    "f1.write('\\n')\n",
    "f1.write('r2_dtr is %.2f' %r2)\n",
    "f1.close()\n",
    "\n",
    "f2 = open(path+'gbt_eval.txt', 'w')\n",
    "\n",
    "f2.write('rmse_gbt is %.2f' %rmse_gbt)\n",
    "f2.write('\\n')\n",
    "f2.write('mae_gbt is %.2f' %mae_gbt)\n",
    "f2.write('\\n')\n",
    "f2.write('r2_gbt is %.2f' %r2_gbt)\n",
    "f2.close()"
   ]
  },
  {
   "cell_type": "code",
   "execution_count": 80,
   "id": "76ef903f",
   "metadata": {},
   "outputs": [],
   "source": [
    "# predictions of two models\n",
    "yhat_dtr_wild = dtr_fit.transform(X_wild)\n",
    "yhat_dtr_wild = yhat_dtr_wild[['eth_price','prediction']]\n",
    "\n",
    "yhat_gbt_wild = gbt_fit.transform(X_wild)\n",
    "yhat_gbt_wild = yhat_gbt_wild[['eth_price','prediction']]"
   ]
  },
  {
   "cell_type": "code",
   "execution_count": 81,
   "id": "dfd44a93",
   "metadata": {},
   "outputs": [],
   "source": [
    "import pandas as pd"
   ]
  },
  {
   "cell_type": "code",
   "execution_count": 82,
   "id": "2ba67945",
   "metadata": {},
   "outputs": [],
   "source": [
    "yhat_dtr_wild = yhat_dtr_wild.toPandas()\n",
    "yhat_gbt_wild = yhat_gbt_wild.toPandas()"
   ]
  },
  {
   "cell_type": "code",
   "execution_count": 84,
   "id": "21a2216c",
   "metadata": {},
   "outputs": [],
   "source": [
    "yhat_dtr_wild.to_csv(path+'dtr_output.csv',index=False)\n",
    "yhat_gbt_wild.to_csv(path+'gbt_output.csv',index=False)"
   ]
  }
 ],
 "metadata": {
  "kernelspec": {
   "display_name": "Python 3",
   "language": "python",
   "name": "python3"
  },
  "language_info": {
   "codemirror_mode": {
    "name": "ipython",
    "version": 3
   },
   "file_extension": ".py",
   "mimetype": "text/x-python",
   "name": "python",
   "nbconvert_exporter": "python",
   "pygments_lexer": "ipython3",
   "version": "3.8.8"
  }
 },
 "nbformat": 4,
 "nbformat_minor": 5
}
