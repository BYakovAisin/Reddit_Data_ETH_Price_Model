{
 "cells": [
  {
   "cell_type": "code",
   "execution_count": 1,
   "id": "5a52c130",
   "metadata": {},
   "outputs": [],
   "source": [
    "import pandas as pd\n",
    "from pyspark.sql import *\n",
    "from pyspark.sql.types import *\n",
    "from pyspark.sql.functions import *"
   ]
  },
  {
   "cell_type": "code",
   "execution_count": 2,
   "id": "a76c9fb6",
   "metadata": {},
   "outputs": [],
   "source": [
    "path = 'C://Users/beile.yaaqob.aisin/Downloads/The_Reddit_Ethereum_Dataset/'\n",
    "\n",
    "#initiating spark session\n",
    "\n",
    "spark = SparkSession.builder \\\n",
    "    .master('local') \\\n",
    "    .appName('Flight Delay') \\\n",
    "    .getOrCreate()"
   ]
  },
  {
   "cell_type": "code",
   "execution_count": 3,
   "id": "277867bf",
   "metadata": {},
   "outputs": [],
   "source": [
    "#setting up the schema\n",
    "productSchema_reddit = StructType().add(\"type\", \"string\") \\\n",
    "                        .add(\"id\", \"string\") \\\n",
    "                        .add(\"subreddit.id\", \"string\") \\\n",
    "                        .add(\"subreddit.name\", \"string\") \\\n",
    "                        .add(\"subreddit.nsfw\", \"string\") \\\n",
    "                        .add(\"created_utc\", \"string\") \\\n",
    "                        .add(\"permalink\", \"string\") \\\n",
    "                        .add(\"body\", \"string\") \\\n",
    "                        .add(\"sentiment\", \"float\") \\\n",
    "                        .add(\"score\", \"long\")"
   ]
  },
  {
   "cell_type": "code",
   "execution_count": 4,
   "id": "d71bd45c",
   "metadata": {},
   "outputs": [],
   "source": [
    "# load reddit data, and the price action data\n",
    "\n",
    "df_reddit = spark.read.format(\"csv\").option(\"header\",\"true\").option(\"multiline\",\"true\").option(\"quote\", \"\\\"\").option(\"escape\", \"\\\"\").schema(productSchema_reddit).load(path+\"the-reddit-ethereum-dataset-comments.csv\")\n",
    "df_eth = spark.read.format(\"csv\").option(\"header\",\"true\").load(path+\"eth_price.csv\")\n",
    "df_btc = spark.read.format(\"csv\").option(\"header\",\"true\").load(path+\"btc_price.csv\")"
   ]
  },
  {
   "cell_type": "code",
   "execution_count": 5,
   "id": "24645ef1",
   "metadata": {},
   "outputs": [
    {
     "data": {
      "text/plain": [
       "1132331"
      ]
     },
     "execution_count": 5,
     "metadata": {},
     "output_type": "execute_result"
    }
   ],
   "source": [
    "#length of the reddit dataset\n",
    "df_reddit.count()"
   ]
  },
  {
   "cell_type": "code",
   "execution_count": 6,
   "id": "fd674cca",
   "metadata": {},
   "outputs": [],
   "source": [
    "df_reddit = df_reddit[['created_utc','body']]\n",
    "df_reddit = df_reddit.dropna()\n",
    "df_reddit = df_reddit[df_reddit['created_utc'] >= '2016-05-15'] #to match the btc and eth price datasets\n",
    "\n",
    "\n",
    "df_eth = df_eth[['date','Adj Close']]\n",
    "df_eth = df_eth.select(col(\"date\").alias(\"eth_date\"), col(\"Adj Close\").alias(\"eth_price\"))\n",
    "\n",
    "df_btc = df_btc[['date','Adj Close']]\n",
    "df_btc = df_btc.select(col(\"date\").alias(\"btc_date\"), col(\"Adj Close\").alias(\"btc_price\"))"
   ]
  },
  {
   "cell_type": "code",
   "execution_count": 7,
   "id": "d7684d45",
   "metadata": {},
   "outputs": [
    {
     "name": "stdout",
     "output_type": "stream",
     "text": [
      "+-------------------+--------------------+\n",
      "|        created_utc|                body|\n",
      "+-------------------+--------------------+\n",
      "|2021-11-01 23:59:52|Surely you must b...|\n",
      "|2021-11-01 23:59:14|For real man, the...|\n",
      "|2021-11-01 23:58:58|What happens with...|\n",
      "|2021-11-01 23:58:40|Not exactly.  Eth...|\n",
      "|2021-11-01 23:57:16|Is the babydoge o...|\n",
      "|2021-11-01 23:55:31|Loopring is not m...|\n",
      "|2021-11-01 23:54:58|Did you listen to...|\n",
      "|2021-11-01 23:53:14|            Ethereum|\n",
      "|2021-11-01 23:52:34|It was a mistake ...|\n",
      "|2021-11-01 23:52:08|            Ethereum|\n",
      "|2021-11-01 23:51:03|Why does Curecoin...|\n",
      "|2021-11-01 23:49:47|I'd love for some...|\n",
      "|2021-11-01 23:49:36|Nowhere yet, they...|\n",
      "|2021-11-01 23:48:22|So you’re saying ...|\n",
      "|2021-11-01 23:47:27|I’m not sure I un...|\n",
      "|2021-11-01 23:46:58|It's pure surviva...|\n",
      "|2021-11-01 23:46:03|There are limits ...|\n",
      "|2021-11-01 23:45:46|   Ethereum and $GME|\n",
      "|2021-11-01 23:45:25|I think that was ...|\n",
      "|2021-11-01 23:45:00|          Ethereum..|\n",
      "+-------------------+--------------------+\n",
      "only showing top 20 rows\n",
      "\n"
     ]
    }
   ],
   "source": [
    "df_reddit.show()"
   ]
  },
  {
   "cell_type": "code",
   "execution_count": 8,
   "id": "7ccbf044",
   "metadata": {},
   "outputs": [],
   "source": [
    "#grouping rows by dates\n",
    "\n",
    "df_reddit = df_reddit.withColumn(\"date\", to_date(col(\"created_utc\")))\n",
    "\n",
    "w = Window.partitionBy('date').orderBy('created_utc')\n",
    "\n",
    "df_reddit = df_reddit.withColumn(\"body\",collect_list(\"body\").over(w)).groupBy(\"date\").agg(max(\"body\").alias(\"body\"))#return texts in list format\n",
    "df_reddit = df_reddit.withColumn(\"body\", concat_ws(\" \", \"body\"))#swapping text data from list to strings\n",
    "\n",
    "df_reddit = df_reddit[['date','body']]"
   ]
  },
  {
   "cell_type": "code",
   "execution_count": 9,
   "id": "33aaf01a",
   "metadata": {},
   "outputs": [
    {
     "name": "stdout",
     "output_type": "stream",
     "text": [
      "+----------+--------------------+\n",
      "|      date|                body|\n",
      "+----------+--------------------+\n",
      "|2016-05-23|Why does ethereum...|\n",
      "|2016-05-26|The 1.1 revision ...|\n",
      "|2016-05-27|https://www.reddi...|\n",
      "|2016-05-31|I'm still extreme...|\n",
      "|2016-06-02|Not really a curr...|\n",
      "|2016-06-16|Here was the scri...|\n",
      "|2016-06-17|Ethereum can be u...|\n",
      "|2016-07-02| \\n\\n \\n\\n **Auth...|\n",
      "|2016-07-03|&gt;Ethereum was ...|\n",
      "|2016-07-17|Isn't the well de...|\n",
      "|2016-07-19|&gt; The communit...|\n",
      "|2016-07-21|If you want to be...|\n",
      "|2016-07-26|It's good to see ...|\n",
      "|2016-08-01|Well it isn't \"li...|\n",
      "|2016-08-05|I've read what yo...|\n",
      "|2016-08-06|Well apparently M...|\n",
      "|2016-08-15|I've had too many...|\n",
      "|2016-08-16|Progress with blo...|\n",
      "|2016-08-23|Not by me. I thou...|\n",
      "|2016-08-26|Maybe we can copy...|\n",
      "+----------+--------------------+\n",
      "only showing top 20 rows\n",
      "\n"
     ]
    }
   ],
   "source": [
    "# post grouping reddit data\n",
    "df_reddit.show()"
   ]
  },
  {
   "cell_type": "code",
   "execution_count": 12,
   "id": "ad72486a",
   "metadata": {},
   "outputs": [
    {
     "name": "stdout",
     "output_type": "stream",
     "text": [
      "+----------+------------------+\n",
      "|  eth_date|         eth_price|\n",
      "+----------+------------------+\n",
      "|2016-05-15| 9.962349891662598|\n",
      "|2016-05-16|11.171299934387207|\n",
      "|2016-05-17|12.198800086975098|\n",
      "|2016-05-18|13.558600425720215|\n",
      "|2016-05-19|14.769700050354004|\n",
      "|2016-05-20|13.635600090026855|\n",
      "|2016-05-21|14.015000343322754|\n",
      "|2016-05-22|14.286100387573242|\n",
      "|2016-05-23| 13.46150016784668|\n",
      "|2016-05-24|  12.7322998046875|\n",
      "|2016-05-25|12.526000022888184|\n",
      "|2016-05-26|12.430399894714355|\n",
      "|2016-05-27| 11.29580020904541|\n",
      "|2016-05-28|11.892900466918945|\n",
      "|2016-05-29|  12.3503999710083|\n",
      "|2016-05-30|12.725299835205078|\n",
      "|2016-05-31|14.077300071716309|\n",
      "|2016-06-01|14.001500129699707|\n",
      "|2016-06-02| 13.73799991607666|\n",
      "|2016-06-03|13.846699714660645|\n",
      "+----------+------------------+\n",
      "only showing top 20 rows\n",
      "\n"
     ]
    }
   ],
   "source": [
    "#eth daily prices\n",
    "df_eth.show()"
   ]
  },
  {
   "cell_type": "code",
   "execution_count": 13,
   "id": "4f046213",
   "metadata": {},
   "outputs": [
    {
     "name": "stdout",
     "output_type": "stream",
     "text": [
      "+----------+-----------------+\n",
      "|  btc_date|        btc_price|\n",
      "+----------+-----------------+\n",
      "|2016-05-15|457.5679931640625|\n",
      "|2016-05-16|454.1629943847656|\n",
      "|2016-05-17|453.7829895019531|\n",
      "|2016-05-18|454.6189880371094|\n",
      "|2016-05-19|438.7149963378906|\n",
      "|2016-05-20|442.6759948730469|\n",
      "|2016-05-21|  443.18798828125|\n",
      "|2016-05-22| 439.322998046875|\n",
      "|2016-05-23|444.1549987792969|\n",
      "|2016-05-24|445.9809875488281|\n",
      "|2016-05-25|449.5989990234375|\n",
      "|2016-05-26|453.3840026855469|\n",
      "|2016-05-27|473.4639892578125|\n",
      "|2016-05-28|530.0399780273438|\n",
      "|2016-05-29|526.2329711914062|\n",
      "|2016-05-30| 533.864013671875|\n",
      "|2016-05-31| 531.385986328125|\n",
      "|2016-06-01|536.9199829101562|\n",
      "|2016-06-02|537.9719848632812|\n",
      "|2016-06-03|569.1939697265625|\n",
      "+----------+-----------------+\n",
      "only showing top 20 rows\n",
      "\n"
     ]
    }
   ],
   "source": [
    "#btc daily prices\n",
    "df_btc.show()"
   ]
  },
  {
   "cell_type": "code",
   "execution_count": 14,
   "id": "8b5fcbfa",
   "metadata": {},
   "outputs": [],
   "source": [
    "df = df_reddit.join(df_btc,df_reddit.date == df_btc.btc_date,\"left_outer\")\n",
    "df = df.join(df_eth,df.date == df_eth.eth_date,\"left_outer\")\n",
    "df = df[['date','body','btc_price','eth_price']]"
   ]
  },
  {
   "cell_type": "code",
   "execution_count": 15,
   "id": "5571f5df",
   "metadata": {},
   "outputs": [
    {
     "name": "stdout",
     "output_type": "stream",
     "text": [
      "+----------+--------------------+-----------------+------------------+\n",
      "|      date|                body|        btc_price|         eth_price|\n",
      "+----------+--------------------+-----------------+------------------+\n",
      "|2016-05-23|Why does ethereum...|444.1549987792969| 13.46150016784668|\n",
      "|2016-05-26|The 1.1 revision ...|453.3840026855469|12.430399894714355|\n",
      "|2016-05-27|https://www.reddi...|473.4639892578125| 11.29580020904541|\n",
      "|2016-05-31|I'm still extreme...| 531.385986328125|14.077300071716309|\n",
      "|2016-06-02|Not really a curr...|537.9719848632812| 13.73799991607666|\n",
      "|2016-06-16|Here was the scri...|766.3079833984375|20.588600158691406|\n",
      "|2016-06-17|Ethereum can be u...|748.9089965820312|15.376799583435059|\n",
      "|2016-07-02| \\n\\n \\n\\n **Auth...|703.7020263671875|12.128399848937988|\n",
      "|2016-07-03|&gt;Ethereum was ...|658.6640014648438|11.720199584960938|\n",
      "|2016-07-17|Isn't the well de...|    679.458984375|11.158699989318848|\n",
      "|2016-07-19|&gt; The communit...| 672.864013671875|11.619099617004395|\n",
      "|2016-07-21|If you want to be...|665.0120239257812|12.650699615478516|\n",
      "|2016-07-26|It's good to see ...|651.7839965820312|11.989500045776367|\n",
      "|2016-08-01|Well it isn't \"li...|  606.27197265625| 10.94159984588623|\n",
      "|2016-08-05|I've read what yo...|575.0430297851562|10.925399780273438|\n",
      "|2016-08-06|Well apparently M...|587.7780151367188|10.881099700927734|\n",
      "|2016-08-15|I've had too many...| 567.239990234375|11.218400001525879|\n",
      "|2016-08-16|Progress with blo...|577.4390258789062|11.139699935913086|\n",
      "|2016-08-23|Not by me. I thou...|583.4149780273438|11.030599594116211|\n",
      "|2016-08-26|Maybe we can copy...|579.6510009765625| 11.29539966583252|\n",
      "+----------+--------------------+-----------------+------------------+\n",
      "only showing top 20 rows\n",
      "\n"
     ]
    }
   ],
   "source": [
    "df.show() #final form in data_manipulation"
   ]
  },
  {
   "cell_type": "code",
   "execution_count": 17,
   "id": "b37da269",
   "metadata": {},
   "outputs": [],
   "source": [
    "pandas_df = df.toPandas() #converting to pandas"
   ]
  },
  {
   "cell_type": "code",
   "execution_count": 18,
   "id": "bb61f41b",
   "metadata": {},
   "outputs": [],
   "source": [
    "#pyspark's .write().format('csv') malfunctions. have to use pandas\n",
    "pandas_df.to_csv(path+'data.csv',index=False)"
   ]
  }
 ],
 "metadata": {
  "kernelspec": {
   "display_name": "Python 3",
   "language": "python",
   "name": "python3"
  },
  "language_info": {
   "codemirror_mode": {
    "name": "ipython",
    "version": 3
   },
   "file_extension": ".py",
   "mimetype": "text/x-python",
   "name": "python",
   "nbconvert_exporter": "python",
   "pygments_lexer": "ipython3",
   "version": "3.8.8"
  }
 },
 "nbformat": 4,
 "nbformat_minor": 5
}
